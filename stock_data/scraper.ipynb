{
 "cells": [
  {
   "cell_type": "code",
   "execution_count": 25,
   "metadata": {
    "collapsed": true
   },
   "outputs": [],
   "source": [
    "import pandas as pd\n",
    "import numpy as np\n",
    "import os\n",
    "import time"
   ]
  },
  {
   "cell_type": "code",
   "execution_count": 133,
   "metadata": {
    "collapsed": false
   },
   "outputs": [
    {
     "data": {
      "text/plain": [
       "'C:\\\\Users\\\\johannes\\\\Documents\\\\investment_projects\\\\Auto-BAHN\\\\stock_data'"
      ]
     },
     "execution_count": 133,
     "metadata": {},
     "output_type": "execute_result"
    }
   ],
   "source": [
    "os.getcwd()"
   ]
  },
  {
   "cell_type": "code",
   "execution_count": 13,
   "metadata": {
    "collapsed": false
   },
   "outputs": [
    {
     "data": {
      "text/html": [
       "<div>\n",
       "<table border=\"1\" class=\"dataframe\">\n",
       "  <thead>\n",
       "    <tr style=\"text-align: right;\">\n",
       "      <th></th>\n",
       "      <th>Symbol</th>\n",
       "      <th>Name</th>\n",
       "      <th>MarketCap</th>\n",
       "      <th>IPOyear</th>\n",
       "      <th>Sector</th>\n",
       "      <th>industry</th>\n",
       "    </tr>\n",
       "  </thead>\n",
       "  <tbody>\n",
       "    <tr>\n",
       "      <th>0</th>\n",
       "      <td>PIH</td>\n",
       "      <td>1347 Property Insurance Holdings, Inc.</td>\n",
       "      <td>$43.55M</td>\n",
       "      <td>2014</td>\n",
       "      <td>Finance</td>\n",
       "      <td>Property-Casualty Insurers</td>\n",
       "    </tr>\n",
       "    <tr>\n",
       "      <th>1</th>\n",
       "      <td>TURN</td>\n",
       "      <td>180 Degree Capital Corp.</td>\n",
       "      <td>$52.6M</td>\n",
       "      <td>n/a</td>\n",
       "      <td>Finance</td>\n",
       "      <td>Finance/Investors Services</td>\n",
       "    </tr>\n",
       "    <tr>\n",
       "      <th>2</th>\n",
       "      <td>FLWS</td>\n",
       "      <td>1-800 FLOWERS.COM, Inc.</td>\n",
       "      <td>$610.88M</td>\n",
       "      <td>1999</td>\n",
       "      <td>Consumer Services</td>\n",
       "      <td>Other Specialty Stores</td>\n",
       "    </tr>\n",
       "    <tr>\n",
       "      <th>3</th>\n",
       "      <td>FCCY</td>\n",
       "      <td>1st Constitution Bancorp (NJ)</td>\n",
       "      <td>$137.99M</td>\n",
       "      <td>n/a</td>\n",
       "      <td>Finance</td>\n",
       "      <td>Savings Institutions</td>\n",
       "    </tr>\n",
       "    <tr>\n",
       "      <th>4</th>\n",
       "      <td>SRCE</td>\n",
       "      <td>1st Source Corporation</td>\n",
       "      <td>$1.26B</td>\n",
       "      <td>n/a</td>\n",
       "      <td>Finance</td>\n",
       "      <td>Major Banks</td>\n",
       "    </tr>\n",
       "  </tbody>\n",
       "</table>\n",
       "</div>"
      ],
      "text/plain": [
       "  Symbol                                    Name MarketCap IPOyear  \\\n",
       "0    PIH  1347 Property Insurance Holdings, Inc.   $43.55M    2014   \n",
       "1   TURN                180 Degree Capital Corp.    $52.6M     n/a   \n",
       "2   FLWS                 1-800 FLOWERS.COM, Inc.  $610.88M    1999   \n",
       "3   FCCY           1st Constitution Bancorp (NJ)  $137.99M     n/a   \n",
       "4   SRCE                  1st Source Corporation    $1.26B     n/a   \n",
       "\n",
       "              Sector                    industry  \n",
       "0            Finance  Property-Casualty Insurers  \n",
       "1            Finance  Finance/Investors Services  \n",
       "2  Consumer Services      Other Specialty Stores  \n",
       "3            Finance        Savings Institutions  \n",
       "4            Finance                 Major Banks  "
      ]
     },
     "execution_count": 13,
     "metadata": {},
     "output_type": "execute_result"
    }
   ],
   "source": [
    "stock_info = pd.read_excel('companylist.xlsx')\n",
    "\n",
    "stock_info.head()"
   ]
  },
  {
   "cell_type": "code",
   "execution_count": 24,
   "metadata": {
    "collapsed": false
   },
   "outputs": [
    {
     "data": {
      "text/plain": [
       "(3270, 6)"
      ]
     },
     "execution_count": 24,
     "metadata": {},
     "output_type": "execute_result"
    }
   ],
   "source": [
    "stock_info.shape"
   ]
  },
  {
   "cell_type": "code",
   "execution_count": 128,
   "metadata": {
    "collapsed": false
   },
   "outputs": [
    {
     "name": "stdout",
     "output_type": "stream",
     "text": [
      "http://www.nasdaq.com/symbol/aapl/financials?query=income-statement\n",
      "http://www.nasdaq.com/symbol/aapl/financials?query=balance-sheet\n",
      "http://www.nasdaq.com/symbol/aapl/financials?query=cash-flow\n",
      "http://www.nasdaq.com/symbol/aapl/financials?query=ratios\n"
     ]
    }
   ],
   "source": [
    "'''\n",
    "Looping through the urls to extract the financial statement information for a list of companies. \n",
    "'''\n",
    "\n",
    "sheets = ['income-statement', 'balance-sheet', 'cash-flow', 'ratios']\n",
    "# tickers = stock_info.Symbol.values\n",
    "\n",
    "tickers = ['aapl']\n",
    "\n",
    "from urllib.request import urlopen\n",
    "from bs4 import BeautifulSoup as soup\n",
    "\n",
    "data = {}\n",
    "for ticker in tickers:\n",
    "    holder = {}\n",
    "    for sheet in sheets:\n",
    "\n",
    "        url = 'http://www.nasdaq.com/symbol/{t}/financials?query={s}'.format(s = sheet, t = ticker)\n",
    "        print(url)\n",
    "        with urlopen(url) as u:\n",
    "            site = u.read()\n",
    "        s = soup(site, 'lxml')\n",
    "\n",
    "        s1 = s.body.findAll('div', id = 'container')[0].findAll('div', id = 'content')[0].findAll('div',id = 'left-column-div')[0].findAll('div', id = 'financials-iframe-wrap')[0].findAll('div',{ \"class\" : \"genTable\" })[0]\n",
    "\n",
    "        df = []\n",
    "        table = s1.table\n",
    "\n",
    "        period = table.tr.findAll('th')\n",
    "        period = [i.text for i in period]\n",
    "        del period[1]\n",
    "        df.append(period)\n",
    "\n",
    "        labels = [i.text for i in table.findAll('th')][6:]\n",
    "        for i in range(len(labels)):\n",
    "            a = [labels[i]] + [i.text for i in table.findAll('tr', recursive = False)[i].findAll('td')[-4:]]\n",
    "            df.append(a)\n",
    "\n",
    "        df = pd.DataFrame(df)\n",
    "        df.columns = df.iloc[0,:]\n",
    "        df = df.reindex(df.index.drop(0))\n",
    "        df = df.set_index('Period Ending:')\n",
    "        df.dropna(inplace = True)\n",
    "        df = df.apply(lambda x: x.replace('$','').replace(',',''))\n",
    "                \n",
    "        holder[sheet] = df\n",
    "        time.sleep(1)\n",
    "\n",
    "    data[ticker] =  holder\n",
    "\n",
    "                  "
   ]
  },
  {
   "cell_type": "code",
   "execution_count": 129,
   "metadata": {
    "collapsed": false
   },
   "outputs": [
    {
     "name": "stdout",
     "output_type": "stream",
     "text": [
      "income-statement 0                                                  9/24/2016     9/26/2015  \\\n",
      "Period Ending:                                                               \n",
      "Total Revenue                                   $215,639,000  $233,715,000   \n",
      "Cost of Revenue                                 $131,376,000  $140,089,000   \n",
      "Gross Profit                                     $84,263,000   $93,626,000   \n",
      "Research and Development                         $10,045,000    $8,067,000   \n",
      "Sales, General and Admin.                        $14,194,000   $14,329,000   \n",
      "Non-Recurring Items                                       $0            $0   \n",
      "Other Operating Items                                     $0            $0   \n",
      "Operating Income                                 $60,024,000   $71,230,000   \n",
      "Add'l income/expense items                        $1,348,000    $1,285,000   \n",
      "Earnings Before Interest and Tax                 $61,372,000   $72,515,000   \n",
      "Interest Expense                                          $0            $0   \n",
      "Earnings Before Tax                              $61,372,000   $72,515,000   \n",
      "Income Tax                                       $15,685,000   $19,121,000   \n",
      "Minority Interest                                         $0            $0   \n",
      "Equity Earnings/Loss Unconsolidated Subsidiary            $0            $0   \n",
      "Net Income-Cont. Operations                      $45,687,000   $53,394,000   \n",
      "Net Income                                       $45,687,000   $53,394,000   \n",
      "Net Income Applicable to Common Shareholders     $45,687,000   $53,394,000   \n",
      "\n",
      "0                                                  9/27/2014     9/28/2013  \n",
      "Period Ending:                                                              \n",
      "Total Revenue                                   $182,795,000  $170,910,000  \n",
      "Cost of Revenue                                 $112,258,000  $106,606,000  \n",
      "Gross Profit                                     $70,537,000   $64,304,000  \n",
      "Research and Development                          $6,041,000    $4,475,000  \n",
      "Sales, General and Admin.                        $11,993,000   $10,830,000  \n",
      "Non-Recurring Items                                       $0            $0  \n",
      "Other Operating Items                                     $0            $0  \n",
      "Operating Income                                 $52,503,000   $48,999,000  \n",
      "Add'l income/expense items                          $980,000    $1,156,000  \n",
      "Earnings Before Interest and Tax                 $53,483,000   $50,155,000  \n",
      "Interest Expense                                          $0            $0  \n",
      "Earnings Before Tax                              $53,483,000   $50,155,000  \n",
      "Income Tax                                       $13,973,000   $13,118,000  \n",
      "Minority Interest                                         $0            $0  \n",
      "Equity Earnings/Loss Unconsolidated Subsidiary            $0            $0  \n",
      "Net Income-Cont. Operations                      $39,510,000   $37,037,000  \n",
      "Net Income                                       $39,510,000   $37,037,000  \n",
      "Net Income Applicable to Common Shareholders     $39,510,000   $37,037,000  \n",
      "balance-sheet 0                                                      9/24/2016  \\\n",
      "Period Ending:                                                     \n",
      "Cash and Cash Equivalents                            $20,484,000   \n",
      "Short-Term Investments                               $46,671,000   \n",
      "Net Receivables                                      $29,299,000   \n",
      "Inventory                                             $2,132,000   \n",
      "Other Current Assets                                  $8,283,000   \n",
      "Total Current Assets                                $106,869,000   \n",
      "Long-Term Investments                               $170,430,000   \n",
      "Fixed Assets                                         $27,010,000   \n",
      "Goodwill                                              $5,414,000   \n",
      "Intangible Assets                                     $3,206,000   \n",
      "Other Assets                                          $8,757,000   \n",
      "Deferred Asset Charges                                        $0   \n",
      "Total Assets                                        $321,686,000   \n",
      "Accounts Payable                                     $59,321,000   \n",
      "Short-Term Debt / Current Portion of Long-Term ...   $11,605,000   \n",
      "Other Current Liabilities                             $8,080,000   \n",
      "Total Current Liabilities                            $79,006,000   \n",
      "Long-Term Debt                                       $75,427,000   \n",
      "Other Liabilities                                    $36,074,000   \n",
      "Deferred Liability Charges                            $2,930,000   \n",
      "Misc. Stocks                                                  $0   \n",
      "Minority Interest                                             $0   \n",
      "Total Liabilities                                   $193,437,000   \n",
      "Common Stocks                                        $31,251,000   \n",
      "Capital Surplus                                               $0   \n",
      "Retained Earnings                                    $96,364,000   \n",
      "Treasury Stock                                                $0   \n",
      "Other Equity                                            $634,000   \n",
      "Total Equity                                        $128,249,000   \n",
      "Total Liabilities & Equity                          $321,686,000   \n",
      "\n",
      "0                                                      9/26/2015  \\\n",
      "Period Ending:                                                     \n",
      "Cash and Cash Equivalents                            $21,120,000   \n",
      "Short-Term Investments                               $20,481,000   \n",
      "Net Receivables                                      $30,343,000   \n",
      "Inventory                                             $2,349,000   \n",
      "Other Current Assets                                 $15,085,000   \n",
      "Total Current Assets                                 $89,378,000   \n",
      "Long-Term Investments                               $164,065,000   \n",
      "Fixed Assets                                         $22,471,000   \n",
      "Goodwill                                              $5,116,000   \n",
      "Intangible Assets                                     $3,893,000   \n",
      "Other Assets                                          $5,422,000   \n",
      "Deferred Asset Charges                                        $0   \n",
      "Total Assets                                        $290,345,000   \n",
      "Accounts Payable                                     $60,671,000   \n",
      "Short-Term Debt / Current Portion of Long-Term ...   $10,999,000   \n",
      "Other Current Liabilities                             $8,940,000   \n",
      "Total Current Liabilities                            $80,610,000   \n",
      "Long-Term Debt                                       $53,329,000   \n",
      "Other Liabilities                                    $33,427,000   \n",
      "Deferred Liability Charges                            $3,624,000   \n",
      "Misc. Stocks                                                  $0   \n",
      "Minority Interest                                             $0   \n",
      "Total Liabilities                                   $170,990,000   \n",
      "Common Stocks                                        $27,416,000   \n",
      "Capital Surplus                                               $0   \n",
      "Retained Earnings                                    $92,284,000   \n",
      "Treasury Stock                                                $0   \n",
      "Other Equity                                          ($345,000)   \n",
      "Total Equity                                        $119,355,000   \n",
      "Total Liabilities & Equity                          $290,345,000   \n",
      "\n",
      "0                                                      9/27/2014     9/28/2013  \n",
      "Period Ending:                                                                  \n",
      "Cash and Cash Equivalents                            $13,844,000   $14,259,000  \n",
      "Short-Term Investments                               $11,233,000   $26,287,000  \n",
      "Net Receivables                                      $31,537,000   $24,094,000  \n",
      "Inventory                                             $2,111,000    $1,764,000  \n",
      "Other Current Assets                                  $9,806,000    $6,882,000  \n",
      "Total Current Assets                                 $68,531,000   $73,286,000  \n",
      "Long-Term Investments                               $130,162,000  $106,215,000  \n",
      "Fixed Assets                                         $20,624,000   $16,597,000  \n",
      "Goodwill                                              $4,616,000    $1,577,000  \n",
      "Intangible Assets                                     $4,142,000    $4,179,000  \n",
      "Other Assets                                          $3,764,000    $5,146,000  \n",
      "Deferred Asset Charges                                        $0            $0  \n",
      "Total Assets                                        $231,839,000  $207,000,000  \n",
      "Accounts Payable                                     $48,649,000   $36,223,000  \n",
      "Short-Term Debt / Current Portion of Long-Term ...    $6,308,000            $0  \n",
      "Other Current Liabilities                             $8,491,000    $7,435,000  \n",
      "Total Current Liabilities                            $63,448,000   $43,658,000  \n",
      "Long-Term Debt                                       $28,987,000   $16,960,000  \n",
      "Other Liabilities                                    $24,826,000   $20,208,000  \n",
      "Deferred Liability Charges                            $3,031,000    $2,625,000  \n",
      "Misc. Stocks                                                  $0            $0  \n",
      "Minority Interest                                             $0            $0  \n",
      "Total Liabilities                                   $120,292,000   $83,451,000  \n",
      "Common Stocks                                        $23,313,000   $19,764,000  \n",
      "Capital Surplus                                               $0            $0  \n",
      "Retained Earnings                                    $87,152,000  $104,256,000  \n",
      "Treasury Stock                                                $0            $0  \n",
      "Other Equity                                          $1,082,000    ($471,000)  \n",
      "Total Equity                                        $111,547,000  $123,549,000  \n",
      "Total Liabilities & Equity                          $231,839,000  $207,000,000  \n",
      "cash-flow 0                               9/24/2016      9/26/2015      9/27/2014  \\\n",
      "Period Ending:                                                            \n",
      "Net Income                    $45,687,000    $53,394,000    $39,510,000   \n",
      "Depreciation                  $10,505,000    $11,257,000     $7,946,000   \n",
      "Net Income Adjustments         $9,148,000     $4,968,000     $5,210,000   \n",
      "Accounts Receivable            $1,044,000   ($3,124,000)   ($6,452,000)   \n",
      "Changes in Inventories           $217,000     ($238,000)      ($76,000)   \n",
      "Other Operating Activities     $1,090,000     ($179,000)       $167,000   \n",
      "Liabilities                  ($1,867,000)    $15,188,000    $13,408,000   \n",
      "Net Cash Flow-Operating       $65,824,000    $81,266,000    $59,713,000   \n",
      "Capital Expenditures        ($12,734,000)  ($11,247,000)   ($9,571,000)   \n",
      "Investments                 ($32,022,000)  ($44,417,000)   ($9,027,000)   \n",
      "Other Investing Activities   ($1,221,000)     ($610,000)   ($3,981,000)   \n",
      "Net Cash Flows-Investing    ($45,977,000)  ($56,274,000)  ($22,579,000)   \n",
      "Sale and Purchase of Stock  ($29,227,000)  ($34,710,000)  ($44,270,000)   \n",
      "Net Borrowings                $22,057,000    $29,305,000    $18,266,000   \n",
      "Other Financing Activities   ($1,570,000)   ($1,499,000)   ($1,158,000)   \n",
      "Net Cash Flows-Financing    ($20,483,000)  ($17,716,000)  ($37,549,000)   \n",
      "Effect of Exchange Rate                $0             $0             $0   \n",
      "Net Cash Flow                  ($636,000)     $7,276,000     ($415,000)   \n",
      "\n",
      "0                               9/28/2013  \n",
      "Period Ending:                             \n",
      "Net Income                    $37,037,000  \n",
      "Depreciation                   $6,757,000  \n",
      "Net Income Adjustments         $3,394,000  \n",
      "Accounts Receivable          ($1,949,000)  \n",
      "Changes in Inventories         ($973,000)  \n",
      "Other Operating Activities     $1,080,000  \n",
      "Liabilities                    $8,320,000  \n",
      "Net Cash Flow-Operating       $53,666,000  \n",
      "Capital Expenditures         ($8,165,000)  \n",
      "Investments                 ($24,042,000)  \n",
      "Other Investing Activities   ($1,567,000)  \n",
      "Net Cash Flows-Investing    ($33,774,000)  \n",
      "Sale and Purchase of Stock  ($22,330,000)  \n",
      "Net Borrowings                $16,896,000  \n",
      "Other Financing Activities   ($1,082,000)  \n",
      "Net Cash Flows-Financing    ($16,379,000)  \n",
      "Effect of Exchange Rate                $0  \n",
      "Net Cash Flow                  $3,513,000  \n",
      "ratios 0                9/24/2016 9/26/2015 9/27/2014 9/28/2013\n",
      "Period Ending:                                          \n",
      "Current Ratio         135%      111%      108%      168%\n",
      "Quick Ratio           133%      108%      105%      164%\n",
      "Cash Ratio             85%       52%       40%       93%\n",
      "Gross Margin           39%       40%       39%       38%\n",
      "Operating Margin       28%       30%       29%       29%\n",
      "Pre-Tax Margin         28%       31%       29%       29%\n",
      "Profit Margin          21%       23%       22%       22%\n",
      "Pre-Tax ROE            48%       61%       48%       41%\n",
      "After Tax ROE          36%       45%       35%       30%\n"
     ]
    }
   ],
   "source": [
    "# for key, value in data.items():\n",
    "#     for k, v in value.items():\n",
    "#         print(k, v)"
   ]
  },
  {
   "cell_type": "code",
   "execution_count": 130,
   "metadata": {
    "collapsed": false
   },
   "outputs": [],
   "source": [
    "# \n",
    "\n",
    "# header_locations = np.where([df.index.values == 'Current Assets', df.index.values == 'Long-Term Assets', \n",
    "#           df.index.values == 'Current Liabilities', df.index.values == 'Stock Holders Equity'])[1]"
   ]
  },
  {
   "cell_type": "code",
   "execution_count": 131,
   "metadata": {
    "collapsed": false
   },
   "outputs": [],
   "source": [
    "# header_locations"
   ]
  },
  {
   "cell_type": "code",
   "execution_count": 132,
   "metadata": {
    "collapsed": false
   },
   "outputs": [],
   "source": [
    "# df.index"
   ]
  },
  {
   "cell_type": "code",
   "execution_count": null,
   "metadata": {
    "collapsed": true
   },
   "outputs": [],
   "source": []
  },
  {
   "cell_type": "code",
   "execution_count": null,
   "metadata": {
    "collapsed": true
   },
   "outputs": [],
   "source": []
  }
 ],
 "metadata": {
  "kernelspec": {
   "display_name": "Python 3",
   "language": "python",
   "name": "python3"
  }
 },
 "nbformat": 4,
 "nbformat_minor": 0
}
